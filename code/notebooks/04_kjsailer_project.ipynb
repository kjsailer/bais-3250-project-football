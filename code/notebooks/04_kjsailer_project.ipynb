{
 "cells": [
  {
   "cell_type": "markdown",
   "id": "75e79b02-0832-44e6-a382-ed4941409234",
   "metadata": {},
   "source": [
    "# Project: Levels of Football\n",
    "\n",
    "Kaleb Sailer\n",
    "\n",
    "This is the hypothesis testing file for all three levels of football."
   ]
  },
  {
   "cell_type": "code",
   "execution_count": 2,
   "id": "4c1dd955-1056-4281-9128-76d0a41c9ceb",
   "metadata": {},
   "outputs": [],
   "source": [
    "import pandas as pd\n",
    "import scipy.stats as stats\n",
    "import statsmodels.api as sm\n",
    "from statsmodels.formula.api import ols"
   ]
  },
  {
   "cell_type": "code",
   "execution_count": 3,
   "id": "5637d2e3-6417-4d20-ae4f-d5a3454f2360",
   "metadata": {},
   "outputs": [],
   "source": [
    "# reading in dataframes \n",
    "hs_cfb_df = pd.read_csv('hs_cfb_df.csv', encoding='utf-8')\n",
    "cfb_nfl_df = pd.read_csv('cfb_nfl_df.csv', encoding='utf-8')\n",
    "hs_nfl_df = pd.read_csv('hs_nfl_df.csv', encoding='utf-8')\n",
    "all_fb_df = pd.read_csv('all_fb.csv', encoding='utf-8')\n",
    "all_fb_region_df = pd.read_csv('all_fb_region.csv', encoding='utf-8')"
   ]
  },
  {
   "cell_type": "markdown",
   "id": "17f015d0-34a7-4c20-aeeb-52762959c2cf",
   "metadata": {},
   "source": [
    "### Question 1: How do average (scoring margins, ppg, ypg, etc.) differ between each level of football?"
   ]
  },
  {
   "cell_type": "code",
   "execution_count": 5,
   "id": "70d89080-3a32-4341-a5fd-07daa7790a35",
   "metadata": {},
   "outputs": [
    {
     "name": "stdout",
     "output_type": "stream",
     "text": [
      "Pearson Correlation Coefficient: 0.8475\n",
      "                 sum_sq     df          F    PR(>F)\n",
      "team_level   964.798335    2.0  11.400366  0.000021\n",
      "Residual    8378.242660  198.0        NaN       NaN\n",
      "P-value: 0.00002060\n",
      "Reject H0: The average points per game are significantly different across team levels.\n",
      "                 sum_sq     df         F    PR(>F)\n",
      "team_level   468.507971    2.0  6.621026  0.001647\n",
      "Residual    7005.302576  198.0       NaN       NaN\n",
      "P-value: 0.00164663\n",
      "Reject H0: The average points per game allowed are significantly different across team levels.\n"
     ]
    }
   ],
   "source": [
    "# Group data by team level and calculate mean for ppg and ppg_a\n",
    "level_ppg = all_fb_df.groupby('team_level')['ppg'].mean()\n",
    "level_ppga = all_fb_df.groupby('team_level')['ppg_a'].mean()\n",
    "\n",
    "# Create a DataFrame for the grouped data\n",
    "ppg_df = pd.DataFrame({\n",
    "    'team_level': level_ppg.index,\n",
    "    'ppg': level_ppg.values,\n",
    "    'ppg_a': level_ppga.values\n",
    "})\n",
    "\n",
    "# correlation test\n",
    "pearson_corr, pearson_p = stats.pearsonr(ppg_df['ppg'], ppg_df['ppg_a'])\n",
    "\n",
    "print(f\"Pearson Correlation Coefficient: {pearson_corr:.4f}\")\n",
    "\n",
    "# Reshape for plotting\n",
    "melted_ppg_df = ppg_df.melt(id_vars='team_level', var_name='Metric', value_name='Value')\n",
    "\n",
    "# Perform ANOVA for ppg based on team_level\n",
    "fit = ols(\"ppg ~ team_level\", data=all_fb_df).fit()\n",
    "anova_table = sm.stats.anova_lm(fit, typ=2)\n",
    "\n",
    "# Extract p-value from the ANOVA table\n",
    "p_value = anova_table[\"PR(>F)\"].iloc[0]\n",
    "print(anova_table)\n",
    "print(f\"P-value: {p_value:.8f}\")\n",
    "\n",
    "# Interpretation of ANOVA result\n",
    "alpha = 0.05\n",
    "if p_value < alpha:\n",
    "    print(\"Reject H0: The average points per game are significantly different across team levels.\")\n",
    "else:\n",
    "    print(\"Fail to reject H0: No significant difference in average points per game across team levels.\")\n",
    "\n",
    "\n",
    "# Perform ANOVA for ppg_a based on team_level\n",
    "fit = ols(\"ppg_a ~ team_level\", data=all_fb_df).fit()\n",
    "anova_table = sm.stats.anova_lm(fit, typ=2)\n",
    "\n",
    "# Extract p-value from the ANOVA table\n",
    "p_value = anova_table[\"PR(>F)\"].iloc[0]\n",
    "print(anova_table)\n",
    "print(f\"P-value: {p_value:.8f}\")\n",
    "\n",
    "# Interpretation of ANOVA result\n",
    "alpha = 0.05\n",
    "if p_value < alpha:\n",
    "    print(\"Reject H0: The average points per game allowed are significantly different across team levels.\")\n",
    "else:\n",
    "    print(\"Fail to reject H0: No significant difference in average points per game allowed across team levels.\")"
   ]
  },
  {
   "cell_type": "markdown",
   "id": "9b98eff3-aee3-461a-87a6-c07de7b39572",
   "metadata": {},
   "source": [
    "### Question 2: Win % (Geographic, Conference, etc.)"
   ]
  },
  {
   "cell_type": "code",
   "execution_count": 7,
   "id": "38f0d06f-8fdd-46f0-b51d-36325e15cf99",
   "metadata": {},
   "outputs": [
    {
     "name": "stdout",
     "output_type": "stream",
     "text": [
      "ANOVA for Win Percentage by State\n",
      "            sum_sq    df         F    PR(>F)\n",
      "state     0.570506  23.0  0.581671  0.917978\n",
      "Residual  1.876322  44.0       NaN       NaN\n",
      "P-value: 0.91797807\n",
      "Fail to reject H0: No significant difference in win percentages across states.\n",
      "\n",
      "ANOVA for Win Percentage by Team Level\n",
      "              sum_sq    df         F    PR(>F)\n",
      "team_level  0.013434   1.0  0.364361  0.548163\n",
      "Residual    2.433394  66.0       NaN       NaN\n",
      "P-value: 0.54816327\n",
      "Fail to reject H0: No significant difference in win percentages across team levels.\n"
     ]
    }
   ],
   "source": [
    "# Perform ANOVA for win_pct based on state\n",
    "fit_state = ols(\"win_pct ~ state\", data=hs_nfl_df).fit()\n",
    "anova_table_state = sm.stats.anova_lm(fit_state, typ=2)\n",
    "\n",
    "# Extract p-value for state\n",
    "p_value_state = anova_table_state[\"PR(>F)\"].iloc[0]\n",
    "print(\"ANOVA for Win Percentage by State\")\n",
    "print(anova_table_state)\n",
    "print(f\"P-value: {p_value_state:.8f}\")\n",
    "\n",
    "# Interpretation of ANOVA result for state\n",
    "alpha = 0.05\n",
    "if p_value_state < alpha:\n",
    "    print(\"Reject H0: The win percentages are significantly different across states.\")\n",
    "else:\n",
    "    print(\"Fail to reject H0: No significant difference in win percentages across states.\")\n",
    "\n",
    "# Perform ANOVA for win_pct based on team_level\n",
    "fit_level = ols(\"win_pct ~ team_level\", data=hs_nfl_df).fit()\n",
    "anova_table_level = sm.stats.anova_lm(fit_level, typ=2)\n",
    "\n",
    "# Extract p-value for team_level\n",
    "p_value_level = anova_table_level[\"PR(>F)\"].iloc[0]\n",
    "print(\"\\nANOVA for Win Percentage by Team Level\")\n",
    "print(anova_table_level)\n",
    "print(f\"P-value: {p_value_level:.8f}\")\n",
    "\n",
    "# Interpretation of ANOVA result for team_level\n",
    "if p_value_level < alpha:\n",
    "    print(\"Reject H0: The win percentages are significantly different across team levels.\")\n",
    "else:\n",
    "    print(\"Fail to reject H0: No significant difference in win percentages across team levels.\")"
   ]
  },
  {
   "cell_type": "code",
   "execution_count": 8,
   "id": "210d04ad-303a-4fa5-88ce-615b704fa79a",
   "metadata": {},
   "outputs": [
    {
     "name": "stdout",
     "output_type": "stream",
     "text": [
      "One-Way ANOVA for Win Percentage by Conference\n",
      "                 sum_sq     df         F    PR(>F)\n",
      "C(conference)  0.296639   12.0  0.595238  0.843627\n",
      "Residual       6.312482  152.0       NaN       NaN\n",
      "P-value: 0.84362710\n",
      "Fail to reject H0: No significant difference in win percentages across conferences.\n"
     ]
    }
   ],
   "source": [
    "# Perform ANOVA for win_pct based on conference\n",
    "fit = ols(\"win_pct ~ C(conference)\", data=cfb_nfl_df).fit()\n",
    "anova_table = sm.stats.anova_lm(fit, typ=2)\n",
    "\n",
    "print(\"One-Way ANOVA for Win Percentage by Conference\")\n",
    "print(anova_table)\n",
    "\n",
    "# Extract p-value from the ANOVA table\n",
    "p_value = anova_table[\"PR(>F)\"].iloc[0]\n",
    "print(f\"P-value: {p_value:.8f}\")\n",
    "\n",
    "# Interpretation of ANOVA result\n",
    "alpha = 0.05\n",
    "if p_value < alpha:\n",
    "    print(\"Reject H0: The win percentages are significantly different across conferences.\")\n",
    "else:\n",
    "    print(\"Fail to reject H0: No significant difference in win percentages across conferences.\")"
   ]
  },
  {
   "cell_type": "markdown",
   "id": "74d45f51-1951-411c-be3a-04ba2071bbb5",
   "metadata": {},
   "source": [
    "### Question 3: Run vs. Pass by Level of Football, Geographic Regions"
   ]
  },
  {
   "cell_type": "code",
   "execution_count": 10,
   "id": "75acf351-b372-4657-a12c-c65c8acfb6cf",
   "metadata": {},
   "outputs": [
    {
     "name": "stdout",
     "output_type": "stream",
     "text": [
      "One-Way ANOVA for Rushing Yards Per Game by Team Level\n",
      "                      sum_sq     df          F        PR(>F)\n",
      "C(team_level)   54238.827768    2.0  15.574992  5.223848e-07\n",
      "Residual       344760.620989  198.0        NaN           NaN\n",
      "P-value for rush_ypg: 0.00000052\n",
      "Reject H0: The mean rushing yards per game are significantly different across team levels.\n"
     ]
    }
   ],
   "source": [
    "# Perform ANOVA for rush_ypg based on team_level\n",
    "fit_rush = ols(\"rush_ypg ~ C(team_level)\", data=all_fb_df).fit()\n",
    "anova_table_rush = sm.stats.anova_lm(fit_rush, typ=2)\n",
    "\n",
    "# Output the ANOVA table and p-value\n",
    "print(\"One-Way ANOVA for Rushing Yards Per Game by Team Level\")\n",
    "print(anova_table_rush)\n",
    "\n",
    "# Extract p-value\n",
    "p_value_rush = anova_table_rush[\"PR(>F)\"].iloc[0]\n",
    "print(f\"P-value for rush_ypg: {p_value_rush:.8f}\")\n",
    "\n",
    "# Interpretation of ANOVA result\n",
    "alpha = 0.05\n",
    "if p_value_rush < alpha:\n",
    "    print(\"Reject H0: The mean rushing yards per game are significantly different across team levels.\")\n",
    "else:\n",
    "    print(\"Fail to reject H0: No significant difference in rushing yards per game across team levels.\")"
   ]
  },
  {
   "cell_type": "code",
   "execution_count": 11,
   "id": "83a6019f-a33a-4345-af8b-fb92f115fc71",
   "metadata": {},
   "outputs": [
    {
     "name": "stdout",
     "output_type": "stream",
     "text": [
      "One-Way ANOVA for Passing Yards Per Game by Team Level\n",
      "                      sum_sq     df          F        PR(>F)\n",
      "C(team_level)  206073.442183    2.0  40.449896  1.864160e-15\n",
      "Residual       504359.046175  198.0        NaN           NaN\n",
      "P-value for pass_ypg: 0.00000000\n",
      "Reject H0: The mean passing yards per game are significantly different across team levels.\n"
     ]
    }
   ],
   "source": [
    "# Perform ANOVA for pass_ypg based on team_level\n",
    "fit_pass = ols(\"pass_ypg ~ C(team_level)\", data=all_fb_df).fit()\n",
    "anova_table_pass = sm.stats.anova_lm(fit_pass, typ=2)\n",
    "\n",
    "# Output the ANOVA table and p-value\n",
    "print(\"One-Way ANOVA for Passing Yards Per Game by Team Level\")\n",
    "print(anova_table_pass)\n",
    "\n",
    "# Extract p-value\n",
    "p_value_pass = anova_table_pass[\"PR(>F)\"].iloc[0]\n",
    "print(f\"P-value for pass_ypg: {p_value_pass:.8f}\")\n",
    "\n",
    "# Interpretation of ANOVA result\n",
    "alpha = 0.05\n",
    "if p_value_pass < alpha:\n",
    "    print(\"Reject H0: The mean passing yards per game are significantly different across team levels.\")\n",
    "else:\n",
    "    print(\"Fail to reject H0: No significant difference in passing yards per game across team levels.\")\n"
   ]
  },
  {
   "cell_type": "code",
   "execution_count": 12,
   "id": "08dcc28d-2039-4d08-9f46-dab4772c9234",
   "metadata": {},
   "outputs": [
    {
     "name": "stdout",
     "output_type": "stream",
     "text": [
      "One-Way ANOVA for Rushing Yards Per Game by Region\n",
      "                  sum_sq    df         F    PR(>F)\n",
      "C(region)   27686.019994   4.0  2.940078  0.027132\n",
      "Residual   148314.012359  63.0       NaN       NaN\n",
      "P-value for region (rush_ypg): 0.02713196\n",
      "Reject H0: The mean rushing yards per game are significantly different across regions.\n"
     ]
    }
   ],
   "source": [
    "# Perform One-Way ANOVA for rush_ypg based on region\n",
    "fit_rush_region = ols(\"rush_ypg ~ C(region)\", data=all_fb_region_df).fit()\n",
    "anova_table_rush_region = sm.stats.anova_lm(fit_rush_region, typ=2)\n",
    "\n",
    "# Output the ANOVA table and p-value\n",
    "print(\"One-Way ANOVA for Rushing Yards Per Game by Region\")\n",
    "print(anova_table_rush_region)\n",
    "\n",
    "# Extract p-value\n",
    "p_value_rush_region = anova_table_rush_region[\"PR(>F)\"].iloc[0]\n",
    "print(f\"P-value for region (rush_ypg): {p_value_rush_region:.8f}\")\n",
    "\n",
    "# Interpretation of ANOVA result\n",
    "alpha = 0.05\n",
    "if p_value_rush_region < alpha:\n",
    "    print(\"Reject H0: The mean rushing yards per game are significantly different across regions.\")\n",
    "else:\n",
    "    print(\"Fail to reject H0: No significant difference in rushing yards per game across regions.\")"
   ]
  },
  {
   "cell_type": "code",
   "execution_count": 13,
   "id": "8dc7c97c-d4f0-44b8-9805-aa78e4d2a045",
   "metadata": {},
   "outputs": [
    {
     "name": "stdout",
     "output_type": "stream",
     "text": [
      "One-Way ANOVA for Passing Yards Per Game by Region\n",
      "                  sum_sq    df         F   PR(>F)\n",
      "C(region)   50761.883234   4.0  4.299351  0.00387\n",
      "Residual   185958.214854  63.0       NaN      NaN\n",
      "P-value for region (pass_ypg): 0.00387034\n",
      "Reject H0: The mean passing yards per game are significantly different across regions.\n"
     ]
    }
   ],
   "source": [
    "# Perform One-Way ANOVA for pass_ypg based on region\n",
    "fit_pass_region = ols(\"pass_ypg ~ C(region)\", data=all_fb_region_df).fit()\n",
    "anova_table_pass_region = sm.stats.anova_lm(fit_pass_region, typ=2)\n",
    "\n",
    "# Output the ANOVA table and p-value\n",
    "print(\"One-Way ANOVA for Passing Yards Per Game by Region\")\n",
    "print(anova_table_pass_region)\n",
    "\n",
    "# Extract p-value\n",
    "p_value_pass_region = anova_table_pass_region[\"PR(>F)\"].iloc[0]\n",
    "print(f\"P-value for region (pass_ypg): {p_value_pass_region:.8f}\")\n",
    "\n",
    "# Interpretation of ANOVA result\n",
    "alpha = 0.05\n",
    "if p_value_pass_region < alpha:\n",
    "    print(\"Reject H0: The mean passing yards per game are significantly different across regions.\")\n",
    "else:\n",
    "    print(\"Fail to reject H0: No significant difference in passing yards per game across regions.\")\n"
   ]
  },
  {
   "cell_type": "code",
   "execution_count": 14,
   "id": "ce99f30a-05d0-462a-af72-ff408793055a",
   "metadata": {},
   "outputs": [
    {
     "name": "stdout",
     "output_type": "stream",
     "text": [
      "One-Way ANOVA for Rushing Yards Per Game by Conference\n",
      "                      sum_sq     df         F  PR(>F)\n",
      "C(conference)   59357.571989   12.0  3.588641  0.0001\n",
      "Residual       209511.764375  152.0       NaN     NaN\n",
      "P-value for rush_ypg (conference): 0.00010025\n",
      "Reject H0: The mean rushing yards per game are significantly different across conferences.\n"
     ]
    }
   ],
   "source": [
    "# Perform ANOVA for rush_ypg across conferences\n",
    "fit_rush_conf = ols(\"rush_ypg ~ C(conference)\", data=cfb_nfl_df).fit()\n",
    "anova_table_rush_conf = sm.stats.anova_lm(fit_rush_conf, typ=2)\n",
    "\n",
    "# Output the ANOVA table and p-value\n",
    "print(\"One-Way ANOVA for Rushing Yards Per Game by Conference\")\n",
    "print(anova_table_rush_conf)\n",
    "\n",
    "# Extract p-value\n",
    "p_value_rush_conf = anova_table_rush_conf[\"PR(>F)\"].iloc[0]\n",
    "print(f\"P-value for rush_ypg (conference): {p_value_rush_conf:.8f}\")\n",
    "\n",
    "# Interpretation of ANOVA result\n",
    "alpha = 0.05\n",
    "if p_value_rush_conf < alpha:\n",
    "    print(\"Reject H0: The mean rushing yards per game are significantly different across conferences.\")\n",
    "else:\n",
    "    print(\"Fail to reject H0: No significant difference in rushing yards per game across conferences.\")"
   ]
  },
  {
   "cell_type": "code",
   "execution_count": 15,
   "id": "6a762a67-0cde-4884-b3ee-8ed3e6bca650",
   "metadata": {},
   "outputs": [
    {
     "name": "stdout",
     "output_type": "stream",
     "text": [
      "One-Way ANOVA for Passing Yards Per Game by Conference\n",
      "                      sum_sq     df        F    PR(>F)\n",
      "C(conference)   83182.190336   12.0  3.39731  0.000202\n",
      "Residual       310139.792937  152.0      NaN       NaN\n",
      "P-value for pass_ypg (conference): 0.00020183\n",
      "Reject H0: The mean passing yards per game are significantly different across conferences.\n"
     ]
    }
   ],
   "source": [
    "# Perform ANOVA for pass_ypg across conferences\n",
    "fit_pass_conf = ols(\"pass_ypg ~ C(conference)\", data=cfb_nfl_df).fit()\n",
    "anova_table_pass_conf = sm.stats.anova_lm(fit_pass_conf, typ=2)\n",
    "\n",
    "# Output the ANOVA table and p-value\n",
    "print(\"One-Way ANOVA for Passing Yards Per Game by Conference\")\n",
    "print(anova_table_pass_conf)\n",
    "\n",
    "# Extract p-value\n",
    "p_value_pass_conf = anova_table_pass_conf[\"PR(>F)\"].iloc[0]\n",
    "print(f\"P-value for pass_ypg (conference): {p_value_pass_conf:.8f}\")\n",
    "\n",
    "# Interpretation of ANOVA result\n",
    "alpha = 0.05\n",
    "if p_value_pass_conf < alpha:\n",
    "    print(\"Reject H0: The mean passing yards per game are significantly different across conferences.\")\n",
    "else:\n",
    "    print(\"Fail to reject H0: No significant difference in passing yards per game across conferences.\")\n"
   ]
  }
 ],
 "metadata": {
  "kernelspec": {
   "display_name": "Python 3 (ipykernel)",
   "language": "python",
   "name": "python3"
  },
  "language_info": {
   "codemirror_mode": {
    "name": "ipython",
    "version": 3
   },
   "file_extension": ".py",
   "mimetype": "text/x-python",
   "name": "python",
   "nbconvert_exporter": "python",
   "pygments_lexer": "ipython3",
   "version": "3.12.3"
  }
 },
 "nbformat": 4,
 "nbformat_minor": 5
}

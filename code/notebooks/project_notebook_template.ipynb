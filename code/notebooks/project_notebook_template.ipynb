{
 "cells": [
  {
   "cell_type": "markdown",
   "id": "8f1b6d22-e536-4322-b706-2b9d303601c4",
   "metadata": {},
   "source": [
    "# Project Title"
   ]
  },
  {
   "cell_type": "markdown",
   "id": "31227c08-9763-408d-809e-1c203663d5f1",
   "metadata": {},
   "source": [
    "Kaleb Sailer\n",
    "\n",
    "Created: MM/DD/YYYY\n",
    "\n",
    "Last Modified: MM/DD/YYYY\n",
    "\n",
    "Project Description: words describing project\n",
    "\n",
    "Notebook Objective: Notebook goals (cleaning, visualization, etc.)"
   ]
  },
  {
   "cell_type": "markdown",
   "id": "958891d0-2ada-4b91-87c7-1a0e2d82e33a",
   "metadata": {},
   "source": [
    "<br>"
   ]
  },
  {
   "cell_type": "markdown",
   "id": "6bc7cfab-6458-41ce-8aa3-e9dbe71c0e2d",
   "metadata": {},
   "source": [
    "### Import libraries:"
   ]
  },
  {
   "cell_type": "code",
   "execution_count": 6,
   "id": "7b69d68d-088b-4024-894d-230e2e250778",
   "metadata": {},
   "outputs": [],
   "source": [
    "import pandas as pd\n",
    "# selenium if scraping\n",
    "# matplotlib or seaborn for visualization"
   ]
  },
  {
   "cell_type": "markdown",
   "id": "884c5fc4-5462-49b7-917d-16cfbb75915f",
   "metadata": {},
   "source": [
    "### Load data:"
   ]
  },
  {
   "cell_type": "code",
   "execution_count": 9,
   "id": "a2e0c710-5231-492d-b84c-7c2c5a434427",
   "metadata": {},
   "outputs": [],
   "source": [
    "# csv import"
   ]
  },
  {
   "cell_type": "markdown",
   "id": "f8745b6e-4011-43d5-95db-b9fc143fb983",
   "metadata": {},
   "source": [
    "### Scrape data:"
   ]
  },
  {
   "cell_type": "code",
   "execution_count": null,
   "id": "105fb43d-ed70-4096-b2f5-ba0386c1ba12",
   "metadata": {},
   "outputs": [],
   "source": [
    "# use selenium"
   ]
  },
  {
   "cell_type": "markdown",
   "id": "0dc95a9d-909a-4cb0-8d21-54685a40ba12",
   "metadata": {},
   "source": [
    "### Clean data:"
   ]
  },
  {
   "cell_type": "code",
   "execution_count": null,
   "id": "d0b4180a-754d-4f5f-9995-77ee66bdcaf1",
   "metadata": {},
   "outputs": [],
   "source": [
    "# use pandas"
   ]
  },
  {
   "cell_type": "markdown",
   "id": "bc6032f5-accc-4976-8519-54a4bac3b7e1",
   "metadata": {},
   "source": [
    "### Visualize data:"
   ]
  },
  {
   "cell_type": "code",
   "execution_count": null,
   "id": "cfd0dab4-f4c4-4cfd-8676-42e03890822d",
   "metadata": {},
   "outputs": [],
   "source": [
    "# matplotlib or seaborn"
   ]
  }
 ],
 "metadata": {
  "kernelspec": {
   "display_name": "Python 3 (ipykernel)",
   "language": "python",
   "name": "python3"
  },
  "language_info": {
   "codemirror_mode": {
    "name": "ipython",
    "version": 3
   },
   "file_extension": ".py",
   "mimetype": "text/x-python",
   "name": "python",
   "nbconvert_exporter": "python",
   "pygments_lexer": "ipython3",
   "version": "3.12.3"
  }
 },
 "nbformat": 4,
 "nbformat_minor": 5
}
